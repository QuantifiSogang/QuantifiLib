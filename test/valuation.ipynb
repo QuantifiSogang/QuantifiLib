{
 "cells": [
  {
   "metadata": {},
   "cell_type": "markdown",
   "source": "### Multiples Valuation",
   "id": "1e338d57564ed8e"
  },
  {
   "cell_type": "code",
   "id": "initial_id",
   "metadata": {
    "collapsed": true,
    "ExecuteTime": {
     "end_time": "2025-08-06T17:53:47.736814Z",
     "start_time": "2025-08-06T17:53:47.726937Z"
    }
   },
   "source": [
    "import numpy as np\n",
    "import pandas as pd\n",
    "\n",
    "from quantifilib.models.valuation.multiple import MultiplesValuation\n",
    "\n",
    "pe_val = MultiplesValuation.from_params(\n",
    "    params = {\n",
    "        \"ratio\": \"PE\", \n",
    "        \"multiple\": 15.0\n",
    "    }\n",
    ")\n",
    "out = pe_val.evaluate(\n",
    "    inputs = {\n",
    "        \"eps\": 8.0, \n",
    "        \"shares_out\": 100.0, \n",
    "        \"timing\": \"forward\"\n",
    "    }\n",
    ")"
   ],
   "outputs": [],
   "execution_count": 28
  },
  {
   "metadata": {
    "ExecuteTime": {
     "end_time": "2025-08-06T17:53:47.763728Z",
     "start_time": "2025-08-06T17:53:47.760625Z"
    }
   },
   "cell_type": "code",
   "source": "out",
   "id": "d2e16d541c548a8b",
   "outputs": [
    {
     "data": {
      "text/plain": [
       "{'multiple_used': 15.0,\n",
       " 'equity_value': 12000.0,\n",
       " 'value_per_share': 120.0,\n",
       " 'bridge': {},\n",
       " 'meta': {'ratio': 'PE', 'timing': 'forward', 'source': 'fixed', 'agg': None}}"
      ]
     },
     "execution_count": 29,
     "metadata": {},
     "output_type": "execute_result"
    }
   ],
   "execution_count": 29
  },
  {
   "metadata": {
    "ExecuteTime": {
     "end_time": "2025-08-06T17:53:47.791229Z",
     "start_time": "2025-08-06T17:53:47.782883Z"
    }
   },
   "cell_type": "code",
   "source": [
    "ev_ebitda = MultiplesValuation.from_params(\n",
    "    params = {\n",
    "        \"ratio\": \"EV/EBITDA\", \n",
    "        \"agg\": \"median\",\n",
    "        \"peer_multiples\": [8.5, 9.2, 7.9, 10.1]\n",
    "    }\n",
    ")\n",
    "res = ev_ebitda.evaluate({\n",
    "    \"ebitda\": 500.0,\n",
    "    \"net_debt\": 1200.0,\n",
    "    \"minority_interest\": 50.0,\n",
    "    \"preferred_equity\": 0.0,\n",
    "    \"associates\": 20.0,\n",
    "    \"shares_out\": 300.0,\n",
    "    \"timing\": \"forward\"\n",
    "})"
   ],
   "id": "7e63c6d2ef4b7773",
   "outputs": [],
   "execution_count": 30
  },
  {
   "metadata": {
    "ExecuteTime": {
     "end_time": "2025-08-06T17:53:47.798259Z",
     "start_time": "2025-08-06T17:53:47.795715Z"
    }
   },
   "cell_type": "code",
   "source": "res",
   "id": "b10552443c63e261",
   "outputs": [
    {
     "data": {
      "text/plain": [
       "{'multiple_used': 8.85,\n",
       " 'equity_value': 3195.0,\n",
       " 'value_per_share': 10.65,\n",
       " 'bridge': {'EV': 4425.0,\n",
       "  'net_debt': 1200.0,\n",
       "  'minority_interest': 50.0,\n",
       "  'preferred_equity': 0.0,\n",
       "  'associates': 20.0},\n",
       " 'meta': {'ratio': 'EV/EBITDA',\n",
       "  'timing': 'forward',\n",
       "  'source': 'peers',\n",
       "  'agg': 'median'}}"
      ]
     },
     "execution_count": 31,
     "metadata": {},
     "output_type": "execute_result"
    }
   ],
   "execution_count": 31
  },
  {
   "metadata": {
    "ExecuteTime": {
     "end_time": "2025-08-06T17:53:47.813155Z",
     "start_time": "2025-08-06T17:53:47.811149Z"
    }
   },
   "cell_type": "code",
   "source": [
    "p_fcf = MultiplesValuation.from_params(\n",
    "    params = {\n",
    "        \"ratio\": \"P/FCF\",\n",
    "        \"multiple\": 18.0\n",
    "    }\n",
    ")\n",
    "ans = p_fcf.evaluate(\n",
    "    inputs = {\n",
    "        \"fcfps\": 6.2, \n",
    "        \"shares_out\": 250.0\n",
    "    }\n",
    ")"
   ],
   "id": "190fd38845c677ed",
   "outputs": [],
   "execution_count": 32
  },
  {
   "metadata": {
    "ExecuteTime": {
     "end_time": "2025-08-06T17:53:47.821983Z",
     "start_time": "2025-08-06T17:53:47.819211Z"
    }
   },
   "cell_type": "code",
   "source": "ans",
   "id": "fbe904e6b8062eca",
   "outputs": [
    {
     "data": {
      "text/plain": [
       "{'multiple_used': 18.0,\n",
       " 'equity_value': 27900.000000000004,\n",
       " 'value_per_share': 111.60000000000001,\n",
       " 'bridge': {},\n",
       " 'meta': {'ratio': 'P/FCF', 'timing': None, 'source': 'fixed', 'agg': None}}"
      ]
     },
     "execution_count": 33,
     "metadata": {},
     "output_type": "execute_result"
    }
   ],
   "execution_count": 33
  },
  {
   "metadata": {},
   "cell_type": "markdown",
   "source": "### from Time Seires",
   "id": "28ea4e3e3b2210dd"
  },
  {
   "metadata": {
    "ExecuteTime": {
     "end_time": "2025-08-06T17:53:47.842257Z",
     "start_time": "2025-08-06T17:53:47.822961Z"
    }
   },
   "cell_type": "code",
   "source": [
    "np.random.seed(42)\n",
    "idx = pd.date_range(\"2023-01-31\", periods=24, freq=\"ME\")\n",
    "\n",
    "eps = 8.0 * (1 + 0.10/12) ** np.arange(24) * np.exp(np.random.normal(0, 0.02, 24))  # gentle growth + noise\n",
    "peer_mult_pe = pd.DataFrame({\n",
    "    \"PeerA\": 15 + np.random.normal(0, 0.5, 24),\n",
    "    \"PeerB\": 14.5 + np.random.normal(0, 0.6, 24),\n",
    "    \"PeerC\": 15.2 + np.random.normal(0, 0.4, 24),\n",
    "}, index=idx)\n",
    "df_pe = pd.DataFrame({\"EPS\": eps}, index=idx)\n",
    "shares_series = pd.Series(300.0, index=idx)"
   ],
   "id": "df4f31ac202eabf",
   "outputs": [],
   "execution_count": 34
  },
  {
   "metadata": {
    "ExecuteTime": {
     "end_time": "2025-08-06T17:53:47.852898Z",
     "start_time": "2025-08-06T17:53:47.843190Z"
    }
   },
   "cell_type": "code",
   "source": [
    "pe_model = MultiplesValuation(\"PE\")\n",
    "\n",
    "target_price_pe = pe_model.evaluate_df(\n",
    "    df_pe, \n",
    "    shares_out=shares_series, \n",
    "    peer_multiples=peer_mult_pe, \n",
    "    agg=\"median\"\n",
    ")"
   ],
   "id": "2d1cc26f64bac37a",
   "outputs": [],
   "execution_count": 35
  },
  {
   "metadata": {
    "ExecuteTime": {
     "end_time": "2025-08-06T17:53:47.942140Z",
     "start_time": "2025-08-06T17:53:47.853807Z"
    }
   },
   "cell_type": "code",
   "source": "target_price_pe['target_price'].plot()",
   "id": "e0c185d587e28bf6",
   "outputs": [
    {
     "data": {
      "text/plain": [
       "<Axes: >"
      ]
     },
     "execution_count": 36,
     "metadata": {},
     "output_type": "execute_result"
    },
    {
     "data": {
      "text/plain": [
       "<Figure size 640x480 with 1 Axes>"
      ],
      "image/png": "[encoded data removed]"
     },
     "metadata": {},
     "output_type": "display_data"
    }
   ],
   "execution_count": 36
  },
  {
   "metadata": {
    "ExecuteTime": {
     "end_time": "2025-08-06T17:53:47.946379Z",
     "start_time": "2025-08-06T17:53:47.943732Z"
    }
   },
   "cell_type": "code",
   "source": [
    "ebitda = 500 * (1 + 0.08/12) ** np.arange(24) * np.exp(np.random.normal(0, 0.03, 24))\n",
    "net_debt = 1200 + np.linspace(0, 200, 24) + np.random.normal(0, 20, 24)\n",
    "df_ev = pd.DataFrame(\n",
    "    {\"EBITDA\": ebitda, \"NetDebt\": net_debt}, \n",
    "    index=idx\n",
    ")"
   ],
   "id": "4ae24ede5abf7d19",
   "outputs": [],
   "execution_count": 37
  },
  {
   "metadata": {
    "ExecuteTime": {
     "end_time": "2025-08-06T17:53:47.949871Z",
     "start_time": "2025-08-06T17:53:47.947056Z"
    }
   },
   "cell_type": "code",
   "source": [
    "ev_model = MultiplesValuation(\"EV/EBITDA\")\n",
    "target_price_ev = ev_model.evaluate_df(\n",
    "    df_ev, \n",
    "    shares_out=shares_series, \n",
    "    multiple=9.5\n",
    ")"
   ],
   "id": "d126ff5c86fddbc1",
   "outputs": [],
   "execution_count": 38
  },
  {
   "metadata": {
    "ExecuteTime": {
     "end_time": "2025-08-06T17:53:48.005125Z",
     "start_time": "2025-08-06T17:53:47.950670Z"
    }
   },
   "cell_type": "code",
   "source": "target_price_ev['target_price'].plot()",
   "id": "8bed56e541420fff",
   "outputs": [
    {
     "data": {
      "text/plain": [
       "<Axes: >"
      ]
     },
     "execution_count": 39,
     "metadata": {},
     "output_type": "execute_result"
    },
    {
     "data": {
      "text/plain": [
       "<Figure size 640x480 with 1 Axes>"
      ],
      "image/png": "[encoded data removed]"
     },
     "metadata": {},
     "output_type": "display_data"
    }
   ],
   "execution_count": 39
  },
  {
   "metadata": {},
   "cell_type": "markdown",
   "source": "### DCF Valuation",
   "id": "1ec0fdc98b18ca34"
  },
  {
   "metadata": {},
   "cell_type": "markdown",
   "source": "Gordon의 FCFF 방법",
   "id": "56276dd3d246ce88"
  },
  {
   "metadata": {
    "ExecuteTime": {
     "end_time": "2025-08-06T17:53:48.009468Z",
     "start_time": "2025-08-06T17:53:48.006188Z"
    }
   },
   "cell_type": "code",
   "source": [
    "from quantifilib.models.valuation.cash_flow import DCFValuation\n",
    "\n",
    "dcf = DCFValuation.from_params(\n",
    "    params = {\n",
    "        'mode':'fcff',\n",
    "        'terminal':'g',\n",
    "        'mid_year':True\n",
    "    }\n",
    ")\n",
    "res = dcf.evaluate({\n",
    "    'ebit':       [200, 220, 242, 266, 293],\n",
    "    'dep':        [50,  52,  55,  58,  60],\n",
    "    'capex':      [80,  85,  90,  95,  100],\n",
    "    'delta_nwc':  [10,  12,  13,  14,  15],\n",
    "    'tax_rate':   0.25,\n",
    "    'wacc':       0.09,\n",
    "    'g':          0.03,\n",
    "    'net_debt':   1200.0,\n",
    "    'shares_out': 300.0,\n",
    "})"
   ],
   "id": "6e72d329bf73ef69",
   "outputs": [],
   "execution_count": 40
  },
  {
   "metadata": {
    "ExecuteTime": {
     "end_time": "2025-08-06T17:53:48.012293Z",
     "start_time": "2025-08-06T17:53:48.010128Z"
    }
   },
   "cell_type": "code",
   "source": "res",
   "id": "60d1985701407d2e",
   "outputs": [
    {
     "data": {
      "text/plain": [
       "{'firm_value': np.float64(2459.1350893953163),\n",
       " 'equity_value': 1259.1350893953163,\n",
       " 'value_per_share': 4.197116964651054,\n",
       " 'breakdown': {'PV_FCF': 540.0591659365446,\n",
       "  'PV_Terminal': 1919.0759234587717,\n",
       "  'FCF': array([110.  , 120.  , 133.5 , 148.5 , 164.75]),\n",
       "  'TV': 2828.2083333333335,\n",
       "  'terminal_method': 'g'}}"
      ]
     },
     "execution_count": 41,
     "metadata": {},
     "output_type": "execute_result"
    }
   ],
   "execution_count": 41
  },
  {
   "metadata": {},
   "cell_type": "markdown",
   "source": "FCFE with exit multiple",
   "id": "4d7885a262092b48"
  },
  {
   "metadata": {
    "ExecuteTime": {
     "end_time": "2025-08-06T17:53:48.015976Z",
     "start_time": "2025-08-06T17:53:48.014083Z"
    }
   },
   "cell_type": "code",
   "source": [
    "dcf_e = DCFValuation.from_params(\n",
    "    params = {\n",
    "        'mode':'fcfe',\n",
    "        'terminal':'exit',\n",
    "        'mid_year':True\n",
    "    }\n",
    ")\n",
    "res_e = dcf_e.evaluate({\n",
    "    'fcfe':       [120, 135, 150, 165, 180],\n",
    "    'ke':         0.11,\n",
    "    'exit_multiple': 12.0,\n",
    "    'exit_metric':   200.0,     # e.g., last-year equity cash earnings proxy\n",
    "    'shares_out':  300.0,\n",
    "})"
   ],
   "id": "f15955715583d0c4",
   "outputs": [],
   "execution_count": 42
  },
  {
   "metadata": {
    "ExecuteTime": {
     "end_time": "2025-08-06T17:53:48.019066Z",
     "start_time": "2025-08-06T17:53:48.016671Z"
    }
   },
   "cell_type": "code",
   "source": "res_e",
   "id": "1328fd39564bf59a",
   "outputs": [
    {
     "data": {
      "text/plain": [
       "{'firm_value': None,\n",
       " 'equity_value': 2072.522056095238,\n",
       " 'value_per_share': 6.908406853650793,\n",
       " 'breakdown': {'PV_FCF': 571.9466053122951,\n",
       "  'PV_Terminal': 1500.5754507829429,\n",
       "  'FCF': array([120., 135., 150., 165., 180.]),\n",
       "  'TV': 2400.0,\n",
       "  'terminal_method': 'exit'}}"
      ]
     },
     "execution_count": 43,
     "metadata": {},
     "output_type": "execute_result"
    }
   ],
   "execution_count": 43
  },
  {
   "metadata": {
    "ExecuteTime": {
     "end_time": "2025-08-06T17:53:48.022816Z",
     "start_time": "2025-08-06T17:53:48.019708Z"
    }
   },
   "cell_type": "code",
   "source": [
    "from quantifilib.models.valuation.growth import GordonGrowthValuation\n",
    "\n",
    "gg = GordonGrowthValuation()\n",
    "\n",
    "res = gg.evaluate({\n",
    "    \"shares_out\": 1_000_000,\n",
    "    \"dps\": 2.0,           # 직전 DPS\n",
    "    \"growth\": 0.03,       # g\n",
    "    \"cost_of_equity\": 0.08  # r\n",
    "})"
   ],
   "id": "2f9b1f01c9da",
   "outputs": [],
   "execution_count": 44
  },
  {
   "metadata": {
    "ExecuteTime": {
     "end_time": "2025-08-06T17:53:48.025785Z",
     "start_time": "2025-08-06T17:53:48.023601Z"
    }
   },
   "cell_type": "code",
   "source": "res",
   "id": "c5c3de5b1f407cd4",
   "outputs": [
    {
     "data": {
      "text/plain": [
       "{'equity_value': 41199999.99999999,\n",
       " 'value_per_share': 41.199999999999996,\n",
       " 'meta': {'model': 'GordonGrowth (single-stage DDM)',\n",
       "  'r': 0.08,\n",
       "  'g': 0.03,\n",
       "  'path': 'dps*(1+g)',\n",
       "  'timing': None}}"
      ]
     },
     "execution_count": 45,
     "metadata": {},
     "output_type": "execute_result"
    }
   ],
   "execution_count": 45
  },
  {
   "metadata": {
    "ExecuteTime": {
     "end_time": "2025-08-06T17:53:52.856026Z",
     "start_time": "2025-08-06T17:53:52.852183Z"
    }
   },
   "cell_type": "code",
   "source": [
    "idx = pd.date_range(\"2024-01-01\", periods=3, freq=\"QE\")\n",
    "df = pd.DataFrame(\n",
    "    {\"DPS\": [2.0, 2.1, 2.2], \"Growth\": [0.03, 0.03, 0.03], \"CostOfEquity\": [0.08, 0.08, 0.08]},\n",
    "    index=idx\n",
    ")\n",
    "out = gg.evaluate_df(df, shares_out=1_000_000)"
   ],
   "id": "64d3ff0c751c461e",
   "outputs": [],
   "execution_count": 48
  },
  {
   "metadata": {
    "ExecuteTime": {
     "end_time": "2025-08-06T17:53:53.409152Z",
     "start_time": "2025-08-06T17:53:53.405105Z"
    }
   },
   "cell_type": "code",
   "source": "out",
   "id": "bd0c6d96efeafb98",
   "outputs": [
    {
     "data": {
      "text/plain": [
       "            target_price  equity_value     r     g       path\n",
       "2024-03-31         41.20    41200000.0  0.08  0.03  DPS*(1+g)\n",
       "2024-06-30         43.26    43260000.0  0.08  0.03  DPS*(1+g)\n",
       "2024-09-30         45.32    45320000.0  0.08  0.03  DPS*(1+g)"
      ],
      "text/html": [
       "<div>\n",
       "<style scoped>\n",
       "    .dataframe tbody tr th:only-of-type {\n",
       "        vertical-align: middle;\n",
       "    }\n",
       "\n",
       "    .dataframe tbody tr th {\n",
       "        vertical-align: top;\n",
       "    }\n",
       "\n",
       "    .dataframe thead th {\n",
       "        text-align: right;\n",
       "    }\n",
       "</style>\n",
       "<table border=\"1\" class=\"dataframe\">\n",
       "  <thead>\n",
       "    <tr style=\"text-align: right;\">\n",
       "      <th></th>\n",
       "      <th>target_price</th>\n",
       "      <th>equity_value</th>\n",
       "      <th>r</th>\n",
       "      <th>g</th>\n",
       "      <th>path</th>\n",
       "    </tr>\n",
       "  </thead>\n",
       "  <tbody>\n",
       "    <tr>\n",
       "      <th>2024-03-31</th>\n",
       "      <td>41.20</td>\n",
       "      <td>41200000.0</td>\n",
       "      <td>0.08</td>\n",
       "      <td>0.03</td>\n",
       "      <td>DPS*(1+g)</td>\n",
       "    </tr>\n",
       "    <tr>\n",
       "      <th>2024-06-30</th>\n",
       "      <td>43.26</td>\n",
       "      <td>43260000.0</td>\n",
       "      <td>0.08</td>\n",
       "      <td>0.03</td>\n",
       "      <td>DPS*(1+g)</td>\n",
       "    </tr>\n",
       "    <tr>\n",
       "      <th>2024-09-30</th>\n",
       "      <td>45.32</td>\n",
       "      <td>45320000.0</td>\n",
       "      <td>0.08</td>\n",
       "      <td>0.03</td>\n",
       "      <td>DPS*(1+g)</td>\n",
       "    </tr>\n",
       "  </tbody>\n",
       "</table>\n",
       "</div>"
      ]
     },
     "execution_count": 49,
     "metadata": {},
     "output_type": "execute_result"
    }
   ],
   "execution_count": 49
  },
  {
   "metadata": {},
   "cell_type": "code",
   "outputs": [],
   "execution_count": null,
   "source": "",
   "id": "756722ac1bcb1121"
  }
 ],
 "metadata": {
  "kernelspec": {
   "display_name": "Python 3",
   "language": "python",
   "name": "python3"
  },
  "language_info": {
   "codemirror_mode": {
    "name": "ipython",
    "version": 2
   },
   "file_extension": ".py",
   "mimetype": "text/x-python",
   "name": "python",
   "nbconvert_exporter": "python",
   "pygments_lexer": "ipython2",
   "version": "2.7.6"
  }
 },
 "nbformat": 4,
 "nbformat_minor": 5
}
