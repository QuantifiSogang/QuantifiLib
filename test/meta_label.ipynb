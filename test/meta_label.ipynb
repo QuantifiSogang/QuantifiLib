{
 "cells": [
  {
   "cell_type": "code",
   "id": "initial_id",
   "metadata": {
    "collapsed": true,
    "ExecuteTime": {
     "end_time": "2025-08-03T15:00:01.803710Z",
     "start_time": "2025-08-03T15:00:00.042711Z"
    }
   },
   "source": [
    "import numpy as np\n",
    "import pandas as pd\n",
    "\n",
    "from quantifilib.data.data_loader import YahooFinanceLoader\n",
    "\n",
    "loader = YahooFinanceLoader()\n",
    "data = loader.load(\n",
    "    '^GSPC',\n",
    "    start = '2000-01-01',\n",
    "    interval = '1d',\n",
    "    auto_adjust = False,\n",
    "    multi_level_index = False,\n",
    "    progress = False\n",
    ")"
   ],
   "outputs": [],
   "execution_count": 1
  },
  {
   "metadata": {
    "ExecuteTime": {
     "end_time": "2025-08-03T15:00:02.706976Z",
     "start_time": "2025-08-03T15:00:01.806552Z"
    }
   },
   "cell_type": "code",
   "source": [
    "from quantifilib.strategy.price_based.mean_reversion import BollingerBandLabeling\n",
    "\n",
    "bollinger = BollingerBandLabeling(\n",
    "    data = data,\n",
    "    upper_multiplier = 2,\n",
    "    lower_multiplier = 2,\n",
    "    window = 20,\n",
    "    method = 'sma',\n",
    "    price_col_name = 'Close'\n",
    ")"
   ],
   "id": "e1a04af3515a5596",
   "outputs": [],
   "execution_count": 2
  },
  {
   "metadata": {
    "ExecuteTime": {
     "end_time": "2025-08-03T15:00:02.711245Z",
     "start_time": "2025-08-03T15:00:02.707695Z"
    }
   },
   "cell_type": "code",
   "source": "bollinger_signal = bollinger.get_labels()",
   "id": "70c1f275250409c5",
   "outputs": [],
   "execution_count": 3
  },
  {
   "metadata": {},
   "cell_type": "markdown",
   "source": "### Set Pipeline up for Meta Labeling",
   "id": "f33a9e76547d1082"
  },
  {
   "metadata": {
    "ExecuteTime": {
     "end_time": "2025-08-03T15:00:21.650126Z",
     "start_time": "2025-08-03T15:00:21.499534Z"
    }
   },
   "cell_type": "code",
   "source": [
    "from  quantifilib.strategy.meta_labeling import MetaLabeling\n",
    "\n",
    "meta = MetaLabeling(\n",
    "    data = data,\n",
    "    signal = BollingerBandLabeling(\n",
    "        data = data,\n",
    "        upper_multiplier = 2,\n",
    "        lower_multiplier = 2,\n",
    "        window = 20,\n",
    "        method = 'sma',\n",
    "        price_col_name = 'Close'\n",
    "    ).get_labels()\n",
    ")\n",
    "meta_label = meta.get_meta_label(barrier_days = 5)"
   ],
   "id": "a06f17fd4ff62aab",
   "outputs": [],
   "execution_count": 6
  },
  {
   "metadata": {
    "ExecuteTime": {
     "end_time": "2025-08-03T15:00:22.585054Z",
     "start_time": "2025-08-03T15:00:22.579170Z"
    }
   },
   "cell_type": "code",
   "source": "meta_label.sort_index()",
   "id": "ab9dbf1b71be7cae",
   "outputs": [
    {
     "data": {
      "text/plain": [
       "            bins  meta_label  actual_ret\n",
       "Date                                    \n",
       "2000-02-22     1           1    0.010539\n",
       "2000-03-20    -1           0    0.046154\n",
       "2000-03-24    -1           1   -0.018907\n",
       "2000-04-18     1           1    0.013443\n",
       "2000-07-17    -1           1   -0.030586\n",
       "...          ...         ...         ...\n",
       "2025-03-12     1           1    0.013571\n",
       "2025-04-09     1           0   -0.033206\n",
       "2025-06-25    -1           0    0.022202\n",
       "2025-07-01    -1           0    0.010528\n",
       "2025-07-07    -1           0    0.006193\n",
       "\n",
       "[342 rows x 3 columns]"
      ],
      "text/html": [
       "<div>\n",
       "<style scoped>\n",
       "    .dataframe tbody tr th:only-of-type {\n",
       "        vertical-align: middle;\n",
       "    }\n",
       "\n",
       "    .dataframe tbody tr th {\n",
       "        vertical-align: top;\n",
       "    }\n",
       "\n",
       "    .dataframe thead th {\n",
       "        text-align: right;\n",
       "    }\n",
       "</style>\n",
       "<table border=\"1\" class=\"dataframe\">\n",
       "  <thead>\n",
       "    <tr style=\"text-align: right;\">\n",
       "      <th></th>\n",
       "      <th>bins</th>\n",
       "      <th>meta_label</th>\n",
       "      <th>actual_ret</th>\n",
       "    </tr>\n",
       "    <tr>\n",
       "      <th>Date</th>\n",
       "      <th></th>\n",
       "      <th></th>\n",
       "      <th></th>\n",
       "    </tr>\n",
       "  </thead>\n",
       "  <tbody>\n",
       "    <tr>\n",
       "      <th>2000-02-22</th>\n",
       "      <td>1</td>\n",
       "      <td>1</td>\n",
       "      <td>0.010539</td>\n",
       "    </tr>\n",
       "    <tr>\n",
       "      <th>2000-03-20</th>\n",
       "      <td>-1</td>\n",
       "      <td>0</td>\n",
       "      <td>0.046154</td>\n",
       "    </tr>\n",
       "    <tr>\n",
       "      <th>2000-03-24</th>\n",
       "      <td>-1</td>\n",
       "      <td>1</td>\n",
       "      <td>-0.018907</td>\n",
       "    </tr>\n",
       "    <tr>\n",
       "      <th>2000-04-18</th>\n",
       "      <td>1</td>\n",
       "      <td>1</td>\n",
       "      <td>0.013443</td>\n",
       "    </tr>\n",
       "    <tr>\n",
       "      <th>2000-07-17</th>\n",
       "      <td>-1</td>\n",
       "      <td>1</td>\n",
       "      <td>-0.030586</td>\n",
       "    </tr>\n",
       "    <tr>\n",
       "      <th>...</th>\n",
       "      <td>...</td>\n",
       "      <td>...</td>\n",
       "      <td>...</td>\n",
       "    </tr>\n",
       "    <tr>\n",
       "      <th>2025-03-12</th>\n",
       "      <td>1</td>\n",
       "      <td>1</td>\n",
       "      <td>0.013571</td>\n",
       "    </tr>\n",
       "    <tr>\n",
       "      <th>2025-04-09</th>\n",
       "      <td>1</td>\n",
       "      <td>0</td>\n",
       "      <td>-0.033206</td>\n",
       "    </tr>\n",
       "    <tr>\n",
       "      <th>2025-06-25</th>\n",
       "      <td>-1</td>\n",
       "      <td>0</td>\n",
       "      <td>0.022202</td>\n",
       "    </tr>\n",
       "    <tr>\n",
       "      <th>2025-07-01</th>\n",
       "      <td>-1</td>\n",
       "      <td>0</td>\n",
       "      <td>0.010528</td>\n",
       "    </tr>\n",
       "    <tr>\n",
       "      <th>2025-07-07</th>\n",
       "      <td>-1</td>\n",
       "      <td>0</td>\n",
       "      <td>0.006193</td>\n",
       "    </tr>\n",
       "  </tbody>\n",
       "</table>\n",
       "<p>342 rows × 3 columns</p>\n",
       "</div>"
      ]
     },
     "execution_count": 7,
     "metadata": {},
     "output_type": "execute_result"
    }
   ],
   "execution_count": 7
  },
  {
   "metadata": {
    "ExecuteTime": {
     "end_time": "2025-08-03T15:02:07.768180Z",
     "start_time": "2025-08-03T15:02:07.764584Z"
    }
   },
   "cell_type": "code",
   "source": "meta_label['meta_label'].value_counts()",
   "id": "20b7ebb2d6f0df88",
   "outputs": [
    {
     "data": {
      "text/plain": [
       "meta_label\n",
       "0    176\n",
       "1    166\n",
       "Name: count, dtype: int64"
      ]
     },
     "execution_count": 9,
     "metadata": {},
     "output_type": "execute_result"
    }
   ],
   "execution_count": 9
  },
  {
   "metadata": {
    "ExecuteTime": {
     "end_time": "2025-08-03T15:09:29.128514Z",
     "start_time": "2025-08-03T15:09:28.969021Z"
    }
   },
   "cell_type": "code",
   "source": [
    "from quantifilib.strategy.price_based.mean_reversion import RSILabeling\n",
    "\n",
    "meta = MetaLabeling(\n",
    "    data = data,\n",
    "    signal = RSILabeling(\n",
    "        data = data,\n",
    "        window = 14,\n",
    "        upper_threshold = 70,\n",
    "        lower_threshold = 30,\n",
    "    ).get_labels()\n",
    ")\n",
    "meta_label = meta.get_meta_label(barrier_days = 5)"
   ],
   "id": "43715c0d59a37e6d",
   "outputs": [],
   "execution_count": 10
  },
  {
   "metadata": {
    "ExecuteTime": {
     "end_time": "2025-08-03T15:10:14.820513Z",
     "start_time": "2025-08-03T15:10:14.816656Z"
    }
   },
   "cell_type": "code",
   "source": "meta_label['meta_label'].value_counts()",
   "id": "97087aefc42890b4",
   "outputs": [
    {
     "data": {
      "text/plain": [
       "meta_label\n",
       "1    206\n",
       "0    202\n",
       "Name: count, dtype: int64"
      ]
     },
     "execution_count": 12,
     "metadata": {},
     "output_type": "execute_result"
    }
   ],
   "execution_count": 12
  },
  {
   "metadata": {},
   "cell_type": "code",
   "outputs": [],
   "execution_count": null,
   "source": "",
   "id": "b389c2a6e64341b"
  }
 ],
 "metadata": {
  "kernelspec": {
   "display_name": "Python 3",
   "language": "python",
   "name": "python3"
  },
  "language_info": {
   "codemirror_mode": {
    "name": "ipython",
    "version": 2
   },
   "file_extension": ".py",
   "mimetype": "text/x-python",
   "name": "python",
   "nbconvert_exporter": "python",
   "pygments_lexer": "ipython2",
   "version": "2.7.6"
  }
 },
 "nbformat": 4,
 "nbformat_minor": 5
}
