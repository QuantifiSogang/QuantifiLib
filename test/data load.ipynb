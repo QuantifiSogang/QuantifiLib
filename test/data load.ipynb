{
 "cells": [
  {
   "cell_type": "code",
   "id": "initial_id",
   "metadata": {
    "collapsed": true,
    "ExecuteTime": {
     "end_time": "2025-07-13T10:48:25.339052Z",
     "start_time": "2025-07-13T10:48:23.740560Z"
    }
   },
   "source": [
    "from quantifilib.data import YahooFinanceLoader\n",
    "\n",
    "loader = YahooFinanceLoader()\n",
    "data = loader.load(\n",
    "    ['^GSPC','AAPL'],\n",
    "    start = '2000-01-01',\n",
    "    interval = '1d',\n",
    "    auto_adjust = False,\n",
    "    multi_level_index = False,\n",
    "    progress = False\n",
    ")"
   ],
   "outputs": [],
   "execution_count": 1
  },
  {
   "metadata": {
    "ExecuteTime": {
     "end_time": "2025-07-13T10:48:26.959652Z",
     "start_time": "2025-07-13T10:48:26.946893Z"
    }
   },
   "cell_type": "code",
   "source": "data.resample('W-FRI').last()['Close'].head()",
   "id": "c24e100a70fb9eb2",
   "outputs": [
    {
     "data": {
      "text/plain": [
       "Ticker          AAPL        ^GSPC\n",
       "Date                             \n",
       "2000-01-07  0.888393  1441.469971\n",
       "2000-01-14  0.896763  1465.150024\n",
       "2000-01-21  0.993862  1441.359985\n",
       "2000-01-28  0.907366  1360.160034\n",
       "2000-02-04  0.964286  1424.369995"
      ],
      "text/html": [
       "<div>\n",
       "<style scoped>\n",
       "    .dataframe tbody tr th:only-of-type {\n",
       "        vertical-align: middle;\n",
       "    }\n",
       "\n",
       "    .dataframe tbody tr th {\n",
       "        vertical-align: top;\n",
       "    }\n",
       "\n",
       "    .dataframe thead th {\n",
       "        text-align: right;\n",
       "    }\n",
       "</style>\n",
       "<table border=\"1\" class=\"dataframe\">\n",
       "  <thead>\n",
       "    <tr style=\"text-align: right;\">\n",
       "      <th>Ticker</th>\n",
       "      <th>AAPL</th>\n",
       "      <th>^GSPC</th>\n",
       "    </tr>\n",
       "    <tr>\n",
       "      <th>Date</th>\n",
       "      <th></th>\n",
       "      <th></th>\n",
       "    </tr>\n",
       "  </thead>\n",
       "  <tbody>\n",
       "    <tr>\n",
       "      <th>2000-01-07</th>\n",
       "      <td>0.888393</td>\n",
       "      <td>1441.469971</td>\n",
       "    </tr>\n",
       "    <tr>\n",
       "      <th>2000-01-14</th>\n",
       "      <td>0.896763</td>\n",
       "      <td>1465.150024</td>\n",
       "    </tr>\n",
       "    <tr>\n",
       "      <th>2000-01-21</th>\n",
       "      <td>0.993862</td>\n",
       "      <td>1441.359985</td>\n",
       "    </tr>\n",
       "    <tr>\n",
       "      <th>2000-01-28</th>\n",
       "      <td>0.907366</td>\n",
       "      <td>1360.160034</td>\n",
       "    </tr>\n",
       "    <tr>\n",
       "      <th>2000-02-04</th>\n",
       "      <td>0.964286</td>\n",
       "      <td>1424.369995</td>\n",
       "    </tr>\n",
       "  </tbody>\n",
       "</table>\n",
       "</div>"
      ]
     },
     "execution_count": 2,
     "metadata": {},
     "output_type": "execute_result"
    }
   ],
   "execution_count": 2
  },
  {
   "metadata": {
    "ExecuteTime": {
     "end_time": "2025-07-13T10:48:29.295394Z",
     "start_time": "2025-07-13T10:48:29.160210Z"
    }
   },
   "cell_type": "code",
   "source": [
    "from quantifilib.data import NaverFinanceLoader\n",
    "\n",
    "loader = NaverFinanceLoader()\n",
    "data = loader.load(\n",
    "    ['005930','005387'],\n",
    "    start = '2020-01-01'\n",
    ")"
   ],
   "id": "ad11831a94d75435",
   "outputs": [],
   "execution_count": 3
  },
  {
   "metadata": {
    "ExecuteTime": {
     "end_time": "2025-07-13T10:49:39.118890Z",
     "start_time": "2025-07-13T10:49:39.111314Z"
    }
   },
   "cell_type": "code",
   "source": "data.resample('W-FRI').last()['Close'].head()",
   "id": "e2289da7ee22bd99",
   "outputs": [
    {
     "data": {
      "text/plain": [
       "             005387   005930\n",
       "Date                        \n",
       "2020-01-03  78600.0  55500.0\n",
       "2020-01-10  76900.0  59500.0\n",
       "2020-01-17  81400.0  61300.0\n",
       "2020-01-24  84500.0  60800.0\n",
       "2020-01-31  80300.0  56400.0"
      ],
      "text/html": [
       "<div>\n",
       "<style scoped>\n",
       "    .dataframe tbody tr th:only-of-type {\n",
       "        vertical-align: middle;\n",
       "    }\n",
       "\n",
       "    .dataframe tbody tr th {\n",
       "        vertical-align: top;\n",
       "    }\n",
       "\n",
       "    .dataframe thead th {\n",
       "        text-align: right;\n",
       "    }\n",
       "</style>\n",
       "<table border=\"1\" class=\"dataframe\">\n",
       "  <thead>\n",
       "    <tr style=\"text-align: right;\">\n",
       "      <th></th>\n",
       "      <th>005387</th>\n",
       "      <th>005930</th>\n",
       "    </tr>\n",
       "    <tr>\n",
       "      <th>Date</th>\n",
       "      <th></th>\n",
       "      <th></th>\n",
       "    </tr>\n",
       "  </thead>\n",
       "  <tbody>\n",
       "    <tr>\n",
       "      <th>2020-01-03</th>\n",
       "      <td>78600.0</td>\n",
       "      <td>55500.0</td>\n",
       "    </tr>\n",
       "    <tr>\n",
       "      <th>2020-01-10</th>\n",
       "      <td>76900.0</td>\n",
       "      <td>59500.0</td>\n",
       "    </tr>\n",
       "    <tr>\n",
       "      <th>2020-01-17</th>\n",
       "      <td>81400.0</td>\n",
       "      <td>61300.0</td>\n",
       "    </tr>\n",
       "    <tr>\n",
       "      <th>2020-01-24</th>\n",
       "      <td>84500.0</td>\n",
       "      <td>60800.0</td>\n",
       "    </tr>\n",
       "    <tr>\n",
       "      <th>2020-01-31</th>\n",
       "      <td>80300.0</td>\n",
       "      <td>56400.0</td>\n",
       "    </tr>\n",
       "  </tbody>\n",
       "</table>\n",
       "</div>"
      ]
     },
     "execution_count": 5,
     "metadata": {},
     "output_type": "execute_result"
    }
   ],
   "execution_count": 5
  },
  {
   "metadata": {
    "ExecuteTime": {
     "end_time": "2025-07-13T10:55:03.893597Z",
     "start_time": "2025-07-13T10:55:02.298739Z"
    }
   },
   "cell_type": "code",
   "source": [
    "from quantifilib.data import FREDLoader\n",
    "\n",
    "loader = FREDLoader()\n",
    "data = loader.load(\n",
    "    ['CPIAUCSL', 'FEDFUNDS'],\n",
    "    start = '2020-01-01'\n",
    ")"
   ],
   "id": "17fc31bee5295a99",
   "outputs": [],
   "execution_count": 1
  },
  {
   "metadata": {},
   "cell_type": "code",
   "outputs": [],
   "execution_count": null,
   "source": "",
   "id": "6332fd3e21bd1d77"
  }
 ],
 "metadata": {
  "kernelspec": {
   "display_name": "Python 3",
   "language": "python",
   "name": "python3"
  },
  "language_info": {
   "codemirror_mode": {
    "name": "ipython",
    "version": 2
   },
   "file_extension": ".py",
   "mimetype": "text/x-python",
   "name": "python",
   "nbconvert_exporter": "python",
   "pygments_lexer": "ipython2",
   "version": "2.7.6"
  }
 },
 "nbformat": 4,
 "nbformat_minor": 5
}
