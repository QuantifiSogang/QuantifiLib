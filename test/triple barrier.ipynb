{
 "cells": [
  {
   "cell_type": "code",
   "id": "initial_id",
   "metadata": {
    "collapsed": true,
    "ExecuteTime": {
     "end_time": "2025-07-17T16:15:04.606805Z",
     "start_time": "2025-07-17T16:15:02.358905Z"
    }
   },
   "source": [
    "from quantifilib.data import YahooFinanceLoader\n",
    "\n",
    "loader = YahooFinanceLoader()\n",
    "data = loader.load(\n",
    "    'SPY',\n",
    "    start = '2000-01-01',\n",
    "    interval = '1d',\n",
    "    auto_adjust = False,\n",
    "    multi_level_index = False,\n",
    "    progress = False\n",
    ")"
   ],
   "outputs": [],
   "execution_count": 1
  },
  {
   "metadata": {
    "ExecuteTime": {
     "end_time": "2025-07-17T16:16:25.976061Z",
     "start_time": "2025-07-17T16:16:20.161333Z"
    }
   },
   "cell_type": "code",
   "source": [
    "from quantifilib.metrics.risk import daily_volatility\n",
    "from quantifilib.strategy.price_based.triple_barrier import add_vertical_barrier\n",
    "\n",
    "vertical_barrier = add_vertical_barrier(\n",
    "    data.index,\n",
    "    data['Close'],\n",
    "    num_days = 7\n",
    ")"
   ],
   "id": "7868bd4c716e31f2",
   "outputs": [],
   "execution_count": 2
  },
  {
   "metadata": {
    "ExecuteTime": {
     "end_time": "2025-07-17T16:16:26.775823Z",
     "start_time": "2025-07-17T16:16:26.771654Z"
    }
   },
   "cell_type": "code",
   "source": "vertical_barrier.head()",
   "id": "95e867659df35bc8",
   "outputs": [
    {
     "data": {
      "text/plain": [
       "Date\n",
       "2000-01-03   2000-01-10\n",
       "2000-01-04   2000-01-11\n",
       "2000-01-05   2000-01-12\n",
       "2000-01-06   2000-01-13\n",
       "2000-01-07   2000-01-14\n",
       "Name: Date, dtype: datetime64[ns]"
      ]
     },
     "execution_count": 3,
     "metadata": {},
     "output_type": "execute_result"
    }
   ],
   "execution_count": 3
  },
  {
   "metadata": {
    "ExecuteTime": {
     "end_time": "2025-07-17T16:17:11.884354Z",
     "start_time": "2025-07-17T16:17:11.879385Z"
    }
   },
   "cell_type": "code",
   "source": "volatility = daily_volatility(data['Close'], lookback = 20)",
   "id": "d0b57bd1b15f8baa",
   "outputs": [],
   "execution_count": 4
  },
  {
   "metadata": {},
   "cell_type": "code",
   "outputs": [],
   "execution_count": null,
   "source": "",
   "id": "4df45c30afe828d4"
  }
 ],
 "metadata": {
  "kernelspec": {
   "display_name": "Python 3",
   "language": "python",
   "name": "python3"
  },
  "language_info": {
   "codemirror_mode": {
    "name": "ipython",
    "version": 2
   },
   "file_extension": ".py",
   "mimetype": "text/x-python",
   "name": "python",
   "nbconvert_exporter": "python",
   "pygments_lexer": "ipython2",
   "version": "2.7.6"
  }
 },
 "nbformat": 4,
 "nbformat_minor": 5
}
